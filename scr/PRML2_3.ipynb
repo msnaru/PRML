{
  "nbformat": 4,
  "nbformat_minor": 0,
  "metadata": {
    "colab": {
      "name": "PRML2-3.ipynb",
      "version": "0.3.2",
      "provenance": [],
      "include_colab_link": true
    },
    "kernelspec": {
      "name": "python3",
      "display_name": "Python 3"
    }
  },
  "cells": [
    {
      "cell_type": "markdown",
      "metadata": {
        "id": "view-in-github",
        "colab_type": "text"
      },
      "source": [
        "[View in Colaboratory](https://colab.research.google.com/github/msnaru/PRML/blob/master/scr/PRML2_3.ipynb)"
      ]
    },
    {
      "metadata": {
        "id": "UNY_87SoW8vJ",
        "colab_type": "text"
      },
      "cell_type": "markdown",
      "source": [
        "# ガウス分布\n",
        "基本的なガウス分布は以下のように表される\n",
        "\\begin{equation*}\n",
        "N(x|\\mu, \\sigma^2) = \\frac{1}{(2\\pi\\sigma^2)^{1/2}}\\exp\\{-\\frac{1}{2\\sigma^2}(x-\\mu)^2\\}\n",
        "\\end{equation*}\n",
        "\n",
        "ガウス分布はエントロピー最大化という性質があるらしい\n",
        "\n",
        "ガウス分布はマハラノビス距離を用いて、以下のように多変量ガウス分布として表現出来る。\n",
        "\n",
        "\\begin{equation*}\n",
        "N(x|\\mu, \\sigma^2) = \\frac{1}{(2\\pi)^{D/2}}\\frac{1}{(|\\boldsymbol{\\Sigma|})^{1/2}}\\exp\\{-\\frac{1}{2}(\\boldsymbol{x}-\\boldsymbol{\\mu})^T\\boldsymbol{\\Sigma}^{-1}(\\boldsymbol{x}-\\boldsymbol{\\mu})\\}\n",
        "\\end{equation*}"
      ]
    },
    {
      "metadata": {
        "id": "P69QO03zf7f1",
        "colab_type": "text"
      },
      "cell_type": "markdown",
      "source": [
        "## マハラノビス距離\n",
        "ある$n$次元連続ベクトルのデータ$x^m = x_1, x_2, \\dots x_m$に対して、共分散行列は以下のように表現される。\n",
        "\n",
        "\\begin{equation*}\n",
        "\\Sigma = \\frac{1}{m}\\Sigma_{i=1}^m(x_i - \\mu)(x_i - \\mu)^T\n",
        "\\end{equation*}\n",
        "\n",
        "これに対して$\\theta$を閾値とすると、新しい$x$に対して\n",
        "\n",
        "\\begin{equation*}\n",
        "\\Delta = \\sqrt{(x_i - \\mu)^T\\Sigma^{-1}(x_i - \\mu)}\n",
        "\\end{equation*}\n",
        "\n",
        "となる$\\Delta$をマハラノビス距離という。\n",
        "\n",
        "($\\Sigma$が単位行列なら、ユークリッド距離と同義である。)\n",
        "\n",
        "\n",
        "マハラノビス距離は、ユークリッド距離に対して各次元のスケーリングを行ったものになる。\n",
        "\n"
      ]
    },
    {
      "metadata": {
        "id": "TQkVAWw3qEzf",
        "colab_type": "code",
        "colab": {}
      },
      "cell_type": "code",
      "source": [
        ""
      ],
      "execution_count": 0,
      "outputs": []
    }
  ]
}