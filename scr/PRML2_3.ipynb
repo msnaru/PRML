{
  "nbformat": 4,
  "nbformat_minor": 0,
  "metadata": {
    "colab": {
      "name": "PRML2-3.ipynb",
      "version": "0.3.2",
      "provenance": [],
      "include_colab_link": true
    },
    "kernelspec": {
      "name": "python3",
      "display_name": "Python 3"
    }
  },
  "cells": [
    {
      "cell_type": "markdown",
      "metadata": {
        "id": "view-in-github",
        "colab_type": "text"
      },
      "source": [
        "[View in Colaboratory](https://colab.research.google.com/github/msnaru/PRML/blob/master/scr/PRML2_3.ipynb)"
      ]
    },
    {
      "metadata": {
        "id": "UNY_87SoW8vJ",
        "colab_type": "text"
      },
      "cell_type": "markdown",
      "source": [
        "# ガウス分布\n",
        "基本的なガウス分布は以下のように表される\n",
        "\\begin{equation*}\n",
        "N(x|\\mu, \\sigma^2) = \\frac{1}{(2\\pi\\sigma^2)^{1/2}}\\exp\\{-\\frac{1}{2\\sigma^2}(x-\\mu)^2\\}\n",
        "\\end{equation*}\n",
        "\n",
        "ガウス分布はエントロピー最大化という性質があるらしい"
      ]
    }
  ]
}