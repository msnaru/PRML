{
  "nbformat": 4,
  "nbformat_minor": 0,
  "metadata": {
    "colab": {
      "name": "PRML2-1.ipynb",
      "version": "0.3.2",
      "provenance": [],
      "include_colab_link": true
    },
    "kernelspec": {
      "name": "python3",
      "display_name": "Python 3"
    }
  },
  "cells": [
    {
      "cell_type": "markdown",
      "metadata": {
        "id": "view-in-github",
        "colab_type": "text"
      },
      "source": [
        "[View in Colaboratory](https://colab.research.google.com/github/msnaru/PRML/blob/master/scr/PRML2_1.ipynb)"
      ]
    },
    {
      "metadata": {
        "id": "44-r9sPHMz0b",
        "colab_type": "text"
      },
      "cell_type": "markdown",
      "source": [
        "# ベルヌーイ分布\n",
        "プロットしてみる"
      ]
    },
    {
      "metadata": {
        "id": "M4AYZHXeMwGT",
        "colab_type": "code",
        "colab": {}
      },
      "cell_type": "code",
      "source": [
        "%matplotlib inline\n",
        "\n",
        "import numpy as np\n",
        "from scipy.misc import comb\n",
        "from matplotlib import pyplot as plt\n",
        "import pylab\n",
        "import pandas as pd"
      ],
      "execution_count": 0,
      "outputs": []
    },
    {
      "metadata": {
        "id": "QMODAv8vOtlA",
        "colab_type": "code",
        "colab": {
          "base_uri": "https://localhost:8080/",
          "height": 469
        },
        "outputId": "190753b6-13f1-4058-b009-1fed84f9428c"
      },
      "cell_type": "code",
      "source": [
        "n = 100\n",
        "p = 0.9\n",
        "\n",
        "xList = pd.Series( [comb(float(n), x) * p ** x * (1-p) ** (float(n)-x) for x in range(0, n+1)] )\n",
        "\n",
        "pylab.figure(figsize=(10,4))\n",
        "plt.bar(xList.index,xList)\n",
        "plt.xlim(0,100)\n",
        "plt.xticks(np.arange(0, n+1, 10))"
      ],
      "execution_count": 12,
      "outputs": [
        {
          "output_type": "execute_result",
          "data": {
            "text/plain": [
              "([<matplotlib.axis.XTick at 0x7f3924f17eb8>,\n",
              "  <matplotlib.axis.XTick at 0x7f3922d5ffd0>,\n",
              "  <matplotlib.axis.XTick at 0x7f3924dfed68>,\n",
              "  <matplotlib.axis.XTick at 0x7f3922cd8c88>,\n",
              "  <matplotlib.axis.XTick at 0x7f3922c60400>,\n",
              "  <matplotlib.axis.XTick at 0x7f3924ed2438>,\n",
              "  <matplotlib.axis.XTick at 0x7f3922c60da0>,\n",
              "  <matplotlib.axis.XTick at 0x7f3922c66550>,\n",
              "  <matplotlib.axis.XTick at 0x7f3922c66cc0>,\n",
              "  <matplotlib.axis.XTick at 0x7f3922c6a470>,\n",
              "  <matplotlib.axis.XTick at 0x7f3922c6abe0>],\n",
              " <a list of 11 Text xticklabel objects>)"
            ]
          },
          "metadata": {
            "tags": []
          },
          "execution_count": 12
        },
        {
          "output_type": "display_data",
          "data": {
            "image/png": "[encoded data removed]",
            "text/plain": [
              "<matplotlib.figure.Figure at 0x7f3924f2a208>"
            ]
          },
          "metadata": {
            "tags": []
          }
        }
      ]
    }
  ]
}