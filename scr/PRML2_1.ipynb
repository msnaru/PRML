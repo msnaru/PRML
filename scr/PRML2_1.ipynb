{
  "nbformat": 4,
  "nbformat_minor": 0,
  "metadata": {
    "colab": {
      "name": "PRML2-1.ipynb",
      "version": "0.3.2",
      "provenance": [],
      "include_colab_link": true
    },
    "kernelspec": {
      "name": "python3",
      "display_name": "Python 3"
    }
  },
  "cells": [
    {
      "cell_type": "markdown",
      "metadata": {
        "id": "view-in-github",
        "colab_type": "text"
      },
      "source": [
        "[View in Colaboratory](https://colab.research.google.com/github/msnaru/PRML/blob/master/scr/PRML2_1.ipynb)"
      ]
    },
    {
      "metadata": {
        "id": "44-r9sPHMz0b",
        "colab_type": "text"
      },
      "cell_type": "markdown",
      "source": [
        "# ベルヌーイ分布"
      ]
    },
    {
      "metadata": {
        "id": "aKSfsmX0zEgA",
        "colab_type": "text"
      },
      "cell_type": "markdown",
      "source": [
        "### ベルヌーイ分布式\n",
        "\\begin{equation*}\n",
        "Bern(x|\\mu) =  \\mu^{x}(1-\\mu)^{1-x}\\end{equation*}\n",
        "\n",
        "### 尤度関数\n",
        "\\begin{equation*}\n",
        "p(D|\\mu) = \\prod_{n=1}^N p(x_n|\\mu) = \\prod_{n=1}^N \\mu^{x_n}\n",
        "(1-\\mu)^{1-x_n}\\end{equation*}\n",
        "\n"
      ]
    },
    {
      "metadata": {
        "id": "qsh2dKqeEo7a",
        "colab_type": "text"
      },
      "cell_type": "markdown",
      "source": [
        "# 2項分布(Binomial distribution)\n",
        "### 2項分布式\n",
        "\\begin{equation*}\n",
        "Bin(x|N, \\mu) = _{100}C_x  \\mu^{x}(1-\\mu)^{1-x}\\end{equation*}"
      ]
    },
    {
      "metadata": {
        "id": "M4AYZHXeMwGT",
        "colab_type": "code",
        "colab": {}
      },
      "cell_type": "code",
      "source": [
        "%matplotlib inline\n",
        "\n",
        "import numpy as np\n",
        "from scipy.misc import comb\n",
        "from matplotlib import pyplot as plt\n",
        "import pylab\n",
        "import pandas as pd"
      ],
      "execution_count": 0,
      "outputs": []
    },
    {
      "metadata": {
        "id": "QMODAv8vOtlA",
        "colab_type": "code",
        "colab": {
          "base_uri": "https://localhost:8080/",
          "height": 490
        },
        "outputId": "44e87b81-3191-4d6f-f16b-58a33abffe07"
      },
      "cell_type": "code",
      "source": [
        "n = 100\n",
        "p = 0.9\n",
        "\n",
        "xList = pd.Series( [comb(float(n), x) * p ** x * (1-p) ** (float(n)-x) for x in range(0, n+1)] )\n",
        "print(sum(xList))\n",
        "\n",
        "pylab.figure(figsize=(10,4))\n",
        "plt.plot(xList.index,xList) \n",
        "plt.xlim(0,100)\n",
        "plt.xticks(np.arange(0, n+1, 10))"
      ],
      "execution_count": 8,
      "outputs": [
        {
          "output_type": "stream",
          "text": [
            "1.0\n"
          ],
          "name": "stdout"
        },
        {
          "output_type": "execute_result",
          "data": {
            "text/plain": [
              "([<matplotlib.axis.XTick at 0x7fe20857ac88>,\n",
              "  <matplotlib.axis.XTick at 0x7fe205cc10f0>,\n",
              "  <matplotlib.axis.XTick at 0x7fe205cc5828>,\n",
              "  <matplotlib.axis.XTick at 0x7fe205c82e80>,\n",
              "  <matplotlib.axis.XTick at 0x7fe205c885f8>,\n",
              "  <matplotlib.axis.XTick at 0x7fe205c88d68>,\n",
              "  <matplotlib.axis.XTick at 0x7fe205c8c518>,\n",
              "  <matplotlib.axis.XTick at 0x7fe205c8cc88>,\n",
              "  <matplotlib.axis.XTick at 0x7fe205c92438>,\n",
              "  <matplotlib.axis.XTick at 0x7fe205c92ba8>,\n",
              "  <matplotlib.axis.XTick at 0x7fe205c97358>],\n",
              " <a list of 11 Text xticklabel objects>)"
            ]
          },
          "metadata": {
            "tags": []
          },
          "execution_count": 8
        },
        {
          "output_type": "display_data",
          "data": {
            "image/png": "[encoded data removed]",
            "text/plain": [
              "<matplotlib.figure.Figure at 0x7fe205cf12e8>"
            ]
          },
          "metadata": {
            "tags": []
          }
        }
      ]
    },
    {
      "metadata": {
        "id": "PU3J_EyY0eCm",
        "colab_type": "code",
        "colab": {}
      },
      "cell_type": "code",
      "source": [
        ""
      ],
      "execution_count": 0,
      "outputs": []
    }
  ]
}