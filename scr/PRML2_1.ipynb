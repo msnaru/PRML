{
  "nbformat": 4,
  "nbformat_minor": 0,
  "metadata": {
    "colab": {
      "name": "PRML2-1.ipynb",
      "version": "0.3.2",
      "provenance": [],
      "include_colab_link": true
    },
    "kernelspec": {
      "name": "python3",
      "display_name": "Python 3"
    }
  },
  "cells": [
    {
      "cell_type": "markdown",
      "metadata": {
        "id": "view-in-github",
        "colab_type": "text"
      },
      "source": [
        "[View in Colaboratory](https://colab.research.google.com/github/msnaru/PRML/blob/master/scr/PRML2_1.ipynb)"
      ]
    },
    {
      "metadata": {
        "id": "44-r9sPHMz0b",
        "colab_type": "text"
      },
      "cell_type": "markdown",
      "source": [
        "# ベルヌーイ分布"
      ]
    },
    {
      "metadata": {
        "id": "aKSfsmX0zEgA",
        "colab_type": "text"
      },
      "cell_type": "markdown",
      "source": [
        "### ベルヌーイ分布式\n",
        "\\begin{equation*}\n",
        "Bern(x|\\mu) =  \\mu^{x}(1-\\mu)^{1-x}\\end{equation*}\n",
        "\n",
        "### 尤度関数\n",
        "\\begin{equation*}\n",
        "p(D|\\mu) = \\prod_{n=1}^N p(x_n|\\mu) = \\prod_{n=1}^N \\mu^{x_n}\n",
        "(1-\\mu)^{1-x_n}\\end{equation*}\n",
        "\n"
      ]
    },
    {
      "metadata": {
        "id": "qsh2dKqeEo7a",
        "colab_type": "text"
      },
      "cell_type": "markdown",
      "source": [
        "# 2項分布(Binomial distribution)\n",
        "### 2項分布式\n",
        "\\begin{equation*}\n",
        "Bin(x|N, \\mu) = _{N}C_x  \\mu^{x}(1-\\mu)^{1-x}\\end{equation*}\n",
        "\n",
        "\n",
        "### 最尤推定とベイズ推定\n",
        "\n",
        "##### 最尤推定\n",
        "2項分布のパラメータ$\\mu$は$\\mu_{ML} = \\frac{m}{N}$\n",
        "のように頻度主義的なサンプル平均（最尤推定量）として表す事ができる。\n",
        "\n",
        "しかし、サンプル数が十分でない場合、最尤推定では過学習が起きる。\n",
        "\n",
        "##### ベイズ推定\n",
        "そこで事前情報を元におおざっぱに目処をつけ、漸近的に逐次学習することで得られるパラメータ$\\mu$を、ベイズ推定によって得られるベイズ推定量として表すことが出来る。\n",
        "\n",
        "尤度関数に事前情報となる事前分布(例：ベータ分布)を与える事で、ベイズ推定が行われる。\n",
        "\n",
        "ここで2項分布は尤度関数として用いられる。"
      ]
    },
    {
      "metadata": {
        "id": "M4AYZHXeMwGT",
        "colab_type": "code",
        "colab": {}
      },
      "cell_type": "code",
      "source": [
        "%matplotlib inline\n",
        "\n",
        "import numpy as np\n",
        "from scipy.misc import comb\n",
        "from matplotlib import pyplot as plt\n",
        "import pylab\n",
        "import pandas as pd"
      ],
      "execution_count": 0,
      "outputs": []
    },
    {
      "metadata": {
        "id": "QMODAv8vOtlA",
        "colab_type": "code",
        "colab": {
          "base_uri": "https://localhost:8080/",
          "height": 494
        },
        "outputId": "536b0a76-c464-4c07-b0fe-d4de900a5173"
      },
      "cell_type": "code",
      "source": [
        "n = 100\n",
        "p = 0.5\n",
        "\n",
        "xList = pd.Series( [comb(float(n), x) * p ** x * (1-p) ** (float(n)-x) for x in range(0, n+1)] )\n",
        "print(sum(xList))\n",
        "\n",
        "pylab.figure(figsize=(10,4))\n",
        "plt.plot(xList.index,xList) \n",
        "plt.xlim(0,100)\n",
        "plt.xticks(np.arange(0, n+1, 10))"
      ],
      "execution_count": 3,
      "outputs": [
        {
          "output_type": "stream",
          "text": [
            "1.0\n"
          ],
          "name": "stdout"
        },
        {
          "output_type": "execute_result",
          "data": {
            "text/plain": [
              "([<matplotlib.axis.XTick at 0x7f3bb83ebcc0>,\n",
              "  <matplotlib.axis.XTick at 0x7f3bd9f53048>,\n",
              "  <matplotlib.axis.XTick at 0x7f3bb83d3630>,\n",
              "  <matplotlib.axis.XTick at 0x7f3bb83a1128>,\n",
              "  <matplotlib.axis.XTick at 0x7f3bb83a1828>,\n",
              "  <matplotlib.axis.XTick at 0x7f3bb83a1f60>,\n",
              "  <matplotlib.axis.XTick at 0x7f3bb83a7710>,\n",
              "  <matplotlib.axis.XTick at 0x7f3bb83a7e80>,\n",
              "  <matplotlib.axis.XTick at 0x7f3bb83ab630>,\n",
              "  <matplotlib.axis.XTick at 0x7f3bb83abda0>,\n",
              "  <matplotlib.axis.XTick at 0x7f3bb83b0550>],\n",
              " <a list of 11 Text xticklabel objects>)"
            ]
          },
          "metadata": {
            "tags": []
          },
          "execution_count": 3
        },
        {
          "output_type": "display_data",
          "data": {
            "image/png": "[encoded data removed]",
            "text/plain": [
              "<matplotlib.figure.Figure at 0x7f3bb84b2ac8>"
            ]
          },
          "metadata": {
            "tags": []
          }
        }
      ]
    },
    {
      "metadata": {
        "id": "PU3J_EyY0eCm",
        "colab_type": "code",
        "colab": {}
      },
      "cell_type": "code",
      "source": [
        ""
      ],
      "execution_count": 0,
      "outputs": []
    }
  ]
}