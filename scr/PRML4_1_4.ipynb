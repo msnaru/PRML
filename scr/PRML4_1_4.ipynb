{
  "nbformat": 4,
  "nbformat_minor": 0,
  "metadata": {
    "colab": {
      "name": "PRML4-1-4.ipynb",
      "version": "0.3.2",
      "provenance": [],
      "include_colab_link": true
    },
    "kernelspec": {
      "name": "python3",
      "display_name": "Python 3"
    }
  },
  "cells": [
    {
      "cell_type": "markdown",
      "metadata": {
        "id": "view-in-github",
        "colab_type": "text"
      },
      "source": [
        "[View in Colaboratory](https://colab.research.google.com/github/msnaru/PRML/blob/master/scr/PRML4_1_4.ipynb)"
      ]
    },
    {
      "metadata": {
        "id": "YRB25tJR7dM0",
        "colab_type": "text"
      },
      "cell_type": "markdown",
      "source": [
        "# フィッシャーの線形判別\n",
        "\n",
        "$d$次元入力ベクトル$\\boldsymbol{x}$を1次元に射影する場合、以下のように表現出来る。\n",
        "\n",
        "\\begin{equation}\n",
        "y = \\boldsymbol{w}^T\\boldsymbol{x}\n",
        "\\end{equation}\n",
        "\n",
        "この$y$に対して閾値を設けることで2クラス($C_1, C_2$)の線形分類を実現出来る。\n",
        "\n",
        "この時閾値は各クラスの平均値の中間を取ることで、クラス間分散の最大化として単純に導出される。\n",
        "\n",
        "\n",
        "しかし$\\boldsymbol{w}$によっては射影した結果、$C_1, C_2$の各クラス内分散が大きい場合、分布が無視できない程重なりうる。\n",
        "\n",
        "そのため、**クラス間分散$S_B$を最大化**しつつ、**クラス内分散$S_W$を最小化する**ことで決定境界の分離性を高めることが出来る。\n",
        "\n",
        "この時の$\\boldsymbol{w}$は以下のように表現される。\n",
        "\n",
        "\\begin{equation}\n",
        "\\boldsymbol{w} \\varpropto  S_W^{-1}(m_2-m_1)\n",
        "\\end{equation}\n",
        "\n",
        "ただし、$m_1, m_2$は$C_1, C_2$の平均値である。"
      ]
    },
    {
      "metadata": {
        "id": "071XQoj77W6b",
        "colab_type": "code",
        "colab": {}
      },
      "cell_type": "code",
      "source": [
        ""
      ],
      "execution_count": 0,
      "outputs": []
    }
  ]
}