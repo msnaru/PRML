{
  "nbformat": 4,
  "nbformat_minor": 0,
  "metadata": {
    "colab": {
      "name": "Ensemble_learning.ipynb",
      "version": "0.3.2",
      "provenance": [],
      "include_colab_link": true
    },
    "kernelspec": {
      "name": "python3",
      "display_name": "Python 3"
    }
  },
  "cells": [
    {
      "cell_type": "markdown",
      "metadata": {
        "id": "view-in-github",
        "colab_type": "text"
      },
      "source": [
        "<a href=\"https://colab.research.google.com/github/msnaru/PRML/blob/master/scr/Ensemble_learning.ipynb\" target=\"_parent\"><img src=\"https://colab.research.google.com/assets/colab-badge.svg\" alt=\"Open In Colab\"/></a>"
      ]
    },
    {
      "metadata": {
        "id": "SpGjOI7nBuzc",
        "colab_type": "text"
      },
      "cell_type": "markdown",
      "source": [
        "# アンサンブル学習とランダムフォレスト\n",
        "アンサンブル学習は複数の学習器を組み合わせる学習方法である。\n",
        "\n",
        "個々のそこそこ精度の良い学習器を**弱学習器**といい、これらを組み合わせた**強学習器**によって高い精度を求める。\n",
        "\n",
        "このアンサンブルメソッドのうち、弱学習器である決定木の予測の平均をとる方法が**ランダムフォレスト**である。\n",
        "\n",
        "その他アンサンブル法としては\n",
        "+ バギング\n",
        "+ ブースティング\n",
        "+ スタッキング\n",
        "\n",
        "があげられる。\n",
        "\n",
        "## 投票分類器\n",
        "\n",
        "#### ハード投票分類器\n",
        "分類に用いられる学習器にはロジスティック回帰、SVM、ランダムフォレスト、k近傍、k平均等、多様な学習器がある。\n",
        "\n",
        "これらを弱学習器として強学習器をつくる時に最も単純であり強力な方法は、各分類機の予測結果の多数決を取る方法である。これを**ハード投票分類器**という。\n",
        "\n",
        "このような強学習器が効力を発揮するには、弱学習器同士の独立性が重要である。そのため異なるデータで学習したり、異なるアルゴリズムを使う必要がある。\n",
        "\n",
        "#### ソフト投票分類器\n",
        "ハード投票では弱学習器がそれぞれが1票の投票権を持つ。\n",
        "\n",
        "これにたいして、弱学習器の予測結果を各クラスの確率として表現し、これらの平均をとることで強学習器とする方法があり、これを**ソフト投票分類器**という。"
      ]
    },
    {
      "metadata": {
        "id": "fbMWASTZP2Fe",
        "colab_type": "code",
        "colab": {
          "base_uri": "https://localhost:8080/",
          "height": 347
        },
        "outputId": "1d8387ba-c221-4ffa-8135-426b331919b5"
      },
      "cell_type": "code",
      "source": [
        "# make_moons データ作成\n",
        "\n",
        "from sklearn.datasets import make_moons\n",
        "from sklearn.model_selection import train_test_split\n",
        "import numpy as np\n",
        "import matplotlib.pyplot as plt\n",
        "\n",
        "X, y = make_moons(n_samples=500, noise=0.30, random_state=42)\n",
        "\n",
        "(X_train, X_test, y_train, y_test) = train_test_split(\n",
        "    X, y, test_size=0.3, random_state=42,\n",
        ")\n",
        "\n",
        "class1x = np.array([])\n",
        "class2x = np.array([])\n",
        "class1y = np.array([])\n",
        "class2y = np.array([])\n",
        "for i in range(len(y)):\n",
        "    if y[i] == 0:\n",
        "        class1x = np.append(class1x, X[:,0][i])\n",
        "        class1y = np.append(class1y, X[:,1][i])\n",
        "    else:\n",
        "        class2x = np.append(class2x, X[:,0][i])\n",
        "        class2y = np.append(class2y, X[:,1][i])\n",
        "\n",
        "plt.plot(class1x, class1y, 'go')\n",
        "plt.plot(class2x, class2y, 'bo')\n",
        "plt.show()"
      ],
      "execution_count": 50,
      "outputs": [
        {
          "output_type": "display_data",
          "data": {
            "image/png": "[encoded data removed]",
            "text/plain": [
              "<matplotlib.figure.Figure at 0x7f24ebfbc0f0>"
            ]
          },
          "metadata": {
            "tags": []
          }
        }
      ]
    },
    {
      "metadata": {
        "id": "fTYrC8X9BnlT",
        "colab_type": "code",
        "colab": {
          "base_uri": "https://localhost:8080/",
          "height": 140
        },
        "outputId": "6c909ac8-6dda-48f3-d482-d45e71ae9ce0"
      },
      "cell_type": "code",
      "source": [
        "# ハード投票分類器の学習\n",
        "\n",
        "from sklearn.ensemble import RandomForestClassifier\n",
        "from sklearn.ensemble import VotingClassifier\n",
        "from sklearn.linear_model import LogisticRegression\n",
        "from sklearn.svm import SVC\n",
        "\n",
        "log_clf = LogisticRegression(random_state=42)\n",
        "rnd_clf = RandomForestClassifier(random_state=42)\n",
        "svm_clf = SVC(random_state=42)\n",
        "\n",
        "voting_clf = VotingClassifier(\n",
        "    estimators = [('lr', log_clf), ('rf', rnd_clf), ('svc', svm_clf)],\n",
        "    voting = 'hard'\n",
        ")\n",
        "\n",
        "voting_clf.fit(X_train, y_train)"
      ],
      "execution_count": 53,
      "outputs": [
        {
          "output_type": "execute_result",
          "data": {
            "text/plain": [
              "VotingClassifier(estimators=[('lr', LogisticRegression(C=1.0, class_weight=None, dual=False, fit_intercept=True,\n",
              "          intercept_scaling=1, max_iter=100, multi_class='ovr', n_jobs=1,\n",
              "          penalty='l2', random_state=42, solver='liblinear', tol=0.0001,\n",
              "          verbose=0, warm_start=False)), ('rf', RandomFor...f',\n",
              "  max_iter=-1, probability=False, random_state=42, shrinking=True,\n",
              "  tol=0.001, verbose=False))],\n",
              "         flatten_transform=None, n_jobs=1, voting='hard', weights=None)"
            ]
          },
          "metadata": {
            "tags": []
          },
          "execution_count": 53
        }
      ]
    },
    {
      "metadata": {
        "id": "Pv069z9yVY1Z",
        "colab_type": "code",
        "colab": {
          "base_uri": "https://localhost:8080/",
          "height": 142
        },
        "outputId": "244ff9cc-cf9c-485b-c912-8ec1b2003b7a"
      },
      "cell_type": "code",
      "source": [
        "# 精度予測\n",
        "\n",
        "from sklearn.metrics import accuracy_score\n",
        "\n",
        "for clf in(log_clf, rnd_clf, svm_clf, voting_clf):\n",
        "  clf.fit(X_train, y_train)\n",
        "  y_pred = clf.predict(X_test)\n",
        "  print(clf.__class__.__name__, accuracy_score(y_test, y_pred))"
      ],
      "execution_count": 54,
      "outputs": [
        {
          "output_type": "stream",
          "text": [
            "LogisticRegression 0.86\n",
            "RandomForestClassifier 0.9\n",
            "SVC 0.9133333333333333\n",
            "VotingClassifier 0.92\n"
          ],
          "name": "stdout"
        },
        {
          "output_type": "stream",
          "text": [
            "/usr/local/lib/python3.6/dist-packages/sklearn/preprocessing/label.py:151: DeprecationWarning: The truth value of an empty array is ambiguous. Returning False, but in future this will result in an error. Use `array.size > 0` to check that an array is not empty.\n",
            "  if diff:\n"
          ],
          "name": "stderr"
        }
      ]
    },
    {
      "metadata": {
        "id": "7uE_wR1PWA8m",
        "colab_type": "code",
        "colab": {}
      },
      "cell_type": "code",
      "source": [
        ""
      ],
      "execution_count": 0,
      "outputs": []
    }
  ]
}