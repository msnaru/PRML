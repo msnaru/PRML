{
  "nbformat": 4,
  "nbformat_minor": 0,
  "metadata": {
    "colab": {
      "name": "PRML2-2-1.ipynb",
      "version": "0.3.2",
      "provenance": [],
      "include_colab_link": true
    },
    "kernelspec": {
      "name": "python3",
      "display_name": "Python 3"
    }
  },
  "cells": [
    {
      "cell_type": "markdown",
      "metadata": {
        "id": "view-in-github",
        "colab_type": "text"
      },
      "source": [
        "[View in Colaboratory](https://colab.research.google.com/github/msnaru/PRML/blob/master/scr/PRML2_2_1.ipynb)"
      ]
    },
    {
      "metadata": {
        "id": "rG3UP2KQ9L6Q",
        "colab_type": "text"
      },
      "cell_type": "markdown",
      "source": [
        "# ディリクレ分布\n",
        "多項分布$ \\left(\n",
        "    \\begin{array}{c}\n",
        "      N\\\\\n",
        "     m_1m_2\\ldots m_k\n",
        "    \\end{array}\n",
        "  \\right)  \\mu_k^{m_k}$のパラメータ$\\mu_k$に対する事前分布は共役分布として以下のように表現出来る。\n",
        "\n",
        "\\begin{equation*}\n",
        "p(\\boldsymbol{\\mu} | \\boldsymbol{\\alpha}) \\varpropto \\prod_{k = 1}^K \\mu_k^{\\alpha_k-1}\n",
        "\\end{equation*}\n",
        "\n",
        "ただし$\\Sigma_k\\mu_k=1$である。\n"
      ]
    },
    {
      "metadata": {
        "id": "pYrwhhsX8dpO",
        "colab_type": "code",
        "colab": {}
      },
      "cell_type": "code",
      "source": [
        ""
      ],
      "execution_count": 0,
      "outputs": []
    }
  ]
}