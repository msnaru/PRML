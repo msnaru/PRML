{
  "nbformat": 4,
  "nbformat_minor": 0,
  "metadata": {
    "colab": {
      "name": "PRML2-2.ipynb",
      "version": "0.3.2",
      "provenance": [],
      "include_colab_link": true
    },
    "kernelspec": {
      "name": "python3",
      "display_name": "Python 3"
    }
  },
  "cells": [
    {
      "cell_type": "markdown",
      "metadata": {
        "id": "view-in-github",
        "colab_type": "text"
      },
      "source": [
        "[View in Colaboratory](https://colab.research.google.com/github/msnaru/PRML/blob/master/scr/PRML2_2.ipynb)"
      ]
    },
    {
      "metadata": {
        "id": "7wQwcpGZtume",
        "colab_type": "text"
      },
      "cell_type": "markdown",
      "source": [
        "# 多値変数, 多項分布"
      ]
    },
    {
      "metadata": {
        "id": "xmrjQyaSpGqx",
        "colab_type": "text"
      },
      "cell_type": "markdown",
      "source": [
        "### ベルヌーイ分布の尤度関数\n",
        "\\begin{equation*}\n",
        "p(D|) = \\prod_{n=1}^N p(x_n|\\mu) = \\prod_{n=1}^N \\mu^{x_n}\n",
        "(1-\\mu)^{1-x_n}\\end{equation*}\n",
        "\n",
        "\n",
        "\n",
        "### ベルヌーイ分布の尤度関数の多項化\n",
        "\\begin{equation*}\n",
        "mlt\\_Bern(x|\\boldsymbol{\\mu}) =  \\prod_{k=1}^K\\mu_k^{m_k}\\end{equation*}\n",
        "\n",
        "### 2項分布式\n",
        "\\begin{equation*}\n",
        "Bin(x|N, \\mu) = _{N}C_x  \\mu^{x}(1-\\mu)^{1-x}\\end{equation*}\n",
        "\n",
        "\n",
        "### 2項分布式の多項化\n",
        "\n",
        "\\begin{equation*}\n",
        "Mult(m_1, m_2, \\ldots, m_k|N, \\boldsymbol{\\mu}) = \\left(\n",
        "    \\begin{array}{c}\n",
        "      N\\\\\n",
        "     m_1m_2\\ldots m_k\n",
        "    \\end{array}\n",
        "  \\right)  \\mu_k^{m_k}\\end{equation*}"
      ]
    },
    {
      "metadata": {
        "id": "Fra7kYCFo317",
        "colab_type": "code",
        "colab": {}
      },
      "cell_type": "code",
      "source": [
        ""
      ],
      "execution_count": 0,
      "outputs": []
    }
  ]
}